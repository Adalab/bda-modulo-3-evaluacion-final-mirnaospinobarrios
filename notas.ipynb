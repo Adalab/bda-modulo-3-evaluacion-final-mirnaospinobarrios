{
 "cells": [
  {
   "cell_type": "markdown",
   "metadata": {},
   "source": [
    "columnas significado y observaciones\n",
    "\n",
    "\n",
    "•\tCountry: El país de origen del cliente. (solo es Canada)\n",
    "•\tProvince: La provincia o estado del cliente.\n",
    "•\tCity: La ciudad donde reside el cliente.\n",
    "•\tPostal Code: El código postal del cliente.\n",
    "•\tGender: El género del cliente.\n",
    "•\tEducation: El nivel educativo del cliente.\n",
    "•\tMarital Status: El estado civil del cliente.\n",
    "•\tLoyalty Card: Si el cliente posee una tarjeta de lealtad o no. bool\n",
    "•\tCLV (Customer Lifetime Value): El valor de vida del cliente.\n",
    "•\tEnrollment Type: Tipo de inscripción del cliente.\n",
    "•\tEnrollment Year: Año de inscripción del cliente.\n",
    "•\tEnrollment Month: Mes de inscripción del cliente.\n",
    "\n",
    "•\tYear: Año de la actividad de vuelo.\n",
    "•\tMonth: Mes de la actividad de vuelo.\n",
    "•\tFlights Booked: Número de vuelos reservados.\n",
    "•\tFlights with Companions: Número de vuelos con acompañantes.\n",
    "•\tTotal Flights: Total de vuelos realizados.\n",
    "•\tDistance: Distancia total de vuelo.\n",
    "•\tPoints Accumulated: Puntos acumulados a través de los vuelos.\n",
    "•\tPoints Redeemed: Puntos redimidos.\n",
    "•\tDollar Cost Points Redeemed: Costo en dólares de los puntos redimidos.\n",
    "\n",
    "Columnas con nulos\n",
    "\n",
    "    Salary: El salario del cliente.\n",
    "•\tCancellation Year: Año de cancelación (si aplica).\n",
    "•\tCancellation Month: Mes de cancelación (si aplica).\n",
    "\n"
   ]
  },
  {
   "cell_type": "code",
   "execution_count": null,
   "metadata": {},
   "outputs": [],
   "source": []
  }
 ],
 "metadata": {
  "language_info": {
   "name": "python"
  }
 },
 "nbformat": 4,
 "nbformat_minor": 2
}
